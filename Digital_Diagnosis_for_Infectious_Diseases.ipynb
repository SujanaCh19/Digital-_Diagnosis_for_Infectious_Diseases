{
  "nbformat": 4,
  "nbformat_minor": 0,
  "metadata": {
    "colab": {
      "name": "Digital Diagnosis for Infectious Diseases.ipynb",
      "provenance": [],
      "collapsed_sections": [],
      "machine_shape": "hm",
      "include_colab_link": true
    },
    "kernelspec": {
      "name": "python3",
      "display_name": "Python 3"
    }
  },
  "cells": [
    {
      "cell_type": "markdown",
      "metadata": {
        "id": "view-in-github",
        "colab_type": "text"
      },
      "source": [
        "<a href=\"https://colab.research.google.com/github/Harideep18/Diagon-Alley/blob/main/Digital_Diagnosis_for_Infectious_Diseases.ipynb\" target=\"_parent\"><img src=\"https://colab.research.google.com/assets/colab-badge.svg\" alt=\"Open In Colab\"/></a>"
      ]
    },
    {
      "cell_type": "markdown",
      "metadata": {
        "id": "0MRC0e0KhQ0S"
      },
      "source": [
        "# K-Nearest Neighbors (K-NN)"
      ]
    },
    {
      "cell_type": "markdown",
      "metadata": {
        "id": "LWd1UlMnhT2s"
      },
      "source": [
        "## Importing the libraries"
      ]
    },
    {
      "cell_type": "code",
      "metadata": {
        "id": "YvGPUQaHhXfL"
      },
      "source": [
        "import numpy as np\n",
        "import matplotlib.pyplot as plt\n",
        "import pandas as pd"
      ],
      "execution_count": null,
      "outputs": []
    },
    {
      "cell_type": "markdown",
      "metadata": {
        "id": "K1VMqkGvhc3-"
      },
      "source": [
        "## Importing the dataset"
      ]
    },
    {
      "cell_type": "code",
      "metadata": {
        "id": "M52QDmyzhh9s"
      },
      "source": [
        "dataset = pd.read_csv('Training.csv')\n",
        "x_train = dataset.iloc[:, :-1].values\n",
        "y_train = dataset.iloc[:, -1].values\n",
        "dataset1 = pd.read_csv('Testing.csv')\n",
        "x_test = dataset1.iloc[:, :-1].values\n",
        "y_test = dataset1.iloc[:, -1].values\n"
      ],
      "execution_count": null,
      "outputs": []
    },
    {
      "cell_type": "code",
      "source": [
        "print(x_train)"
      ],
      "metadata": {
        "colab": {
          "base_uri": "https://localhost:8080/"
        },
        "id": "Su-OTmHsiuxJ",
        "outputId": "2132cade-2a5f-4d53-f80f-c2dfaae96762"
      },
      "execution_count": null,
      "outputs": [
        {
          "output_type": "stream",
          "name": "stdout",
          "text": [
            "[[1 1 1 ... 0 0 0]\n",
            " [0 1 1 ... 0 0 0]\n",
            " [1 0 1 ... 0 0 0]\n",
            " ...\n",
            " [0 0 0 ... 0 0 0]\n",
            " [0 1 0 ... 0 0 0]\n",
            " [0 1 0 ... 1 1 1]]\n"
          ]
        }
      ]
    },
    {
      "cell_type": "code",
      "source": [
        "print(y_train)"
      ],
      "metadata": {
        "colab": {
          "base_uri": "https://localhost:8080/"
        },
        "id": "0JJqNTbYio8j",
        "outputId": "4fa70891-f2a9-4b82-9212-1de53b4e1f18"
      },
      "execution_count": null,
      "outputs": [
        {
          "output_type": "stream",
          "name": "stdout",
          "text": [
            "['Fungal infection' 'Fungal infection' 'Fungal infection' ...\n",
            " 'Urinary tract infection' 'Psoriasis' 'Impetigo']\n"
          ]
        }
      ]
    },
    {
      "cell_type": "code",
      "source": [
        "print(x_test)"
      ],
      "metadata": {
        "colab": {
          "base_uri": "https://localhost:8080/"
        },
        "id": "I1b65qofjPLw",
        "outputId": "c69f672b-4315-4ef8-b10f-f5b0e0cb7569"
      },
      "execution_count": null,
      "outputs": [
        {
          "output_type": "stream",
          "name": "stdout",
          "text": [
            "[[1 1 1 ... 0 0 0]\n",
            " [0 0 0 ... 0 0 0]\n",
            " [0 0 0 ... 0 0 0]\n",
            " ...\n",
            " [0 1 0 ... 0 0 0]\n",
            " [0 1 0 ... 1 1 1]\n",
            " [1 1 0 ... 0 1 0]]\n"
          ]
        }
      ]
    },
    {
      "cell_type": "code",
      "source": [
        "print(y_test)"
      ],
      "metadata": {
        "colab": {
          "base_uri": "https://localhost:8080/"
        },
        "id": "nP7eFbiYjPra",
        "outputId": "2cdf95cf-be06-4dd8-f6de-b175472ae0bd"
      },
      "execution_count": null,
      "outputs": [
        {
          "output_type": "stream",
          "name": "stdout",
          "text": [
            "['Fungal infection' 'Allergy' 'GERD' 'Chronic cholestasis'\n",
            " 'Peptic ulcer disease' 'AIDS' 'Gastroenteritis' 'Bronchial Asthma'\n",
            " 'Cervical spondylosis' 'Jaundice' 'Malaria' 'Chicken pox' 'Dengue'\n",
            " 'Typhoid' 'hepatitis A' 'Hepatitis B' 'Hepatitis C' 'Hepatitis D'\n",
            " 'Hepatitis E' 'Alcoholic hepatitis' 'Tuberculosis' 'Common Cold'\n",
            " 'Pneumonia' 'Dimorphic hemmorhoids' 'Varicose veins' 'Hypothyroidism'\n",
            " 'Hyperthyroidism' 'Hypoglycemia' 'Osteoarthristis' 'Arthritis'\n",
            " 'Paroxysmal  Positional Vertigo' 'Acne' 'Urinary tract infection'\n",
            " 'Psoriasis' 'Impetigo' 'Fungal infection']\n"
          ]
        }
      ]
    },
    {
      "cell_type": "markdown",
      "metadata": {
        "id": "kW3c7UYih0hT"
      },
      "source": [
        "## Feature Scaling"
      ]
    },
    {
      "cell_type": "code",
      "metadata": {
        "id": "9fQlDPKCh8sc"
      },
      "source": [
        "from sklearn.preprocessing import StandardScaler\n",
        "sc = StandardScaler()\n",
        "x_train = sc.fit_transform(x_train)\n",
        "x_test = sc.transform(x_test)"
      ],
      "execution_count": null,
      "outputs": []
    },
    {
      "cell_type": "code",
      "metadata": {
        "id": "syrnD1Op2BSR",
        "outputId": "3de8d021-46d6-436f-ed9e-02c65f5d1de3",
        "colab": {
          "base_uri": "https://localhost:8080/"
        }
      },
      "source": [
        "print(x_train)"
      ],
      "execution_count": null,
      "outputs": [
        {
          "output_type": "stream",
          "name": "stdout",
          "text": [
            "[[ 2.47991935  2.26463494  6.53409859 ... -0.15733944 -0.15733944\n",
            "  -0.15733944]\n",
            " [-0.40323892  2.26463494  6.53409859 ... -0.15733944 -0.15733944\n",
            "  -0.15733944]\n",
            " [ 2.47991935 -0.44157227  6.53409859 ... -0.15733944 -0.15733944\n",
            "  -0.15733944]\n",
            " ...\n",
            " [-0.40323892 -0.44157227 -0.1530433  ... -0.15733944 -0.15733944\n",
            "  -0.15733944]\n",
            " [-0.40323892  2.26463494 -0.1530433  ... -0.15733944 -0.15733944\n",
            "  -0.15733944]\n",
            " [-0.40323892  2.26463494 -0.1530433  ...  6.3556854   6.3556854\n",
            "   6.3556854 ]]\n"
          ]
        }
      ]
    },
    {
      "cell_type": "code",
      "metadata": {
        "id": "JUd6iBRp2C3L",
        "outputId": "b1c3e8a6-e2fe-40ce-9705-d339b5da961e",
        "colab": {
          "base_uri": "https://localhost:8080/"
        }
      },
      "source": [
        "print(x_test)"
      ],
      "execution_count": null,
      "outputs": [
        {
          "output_type": "stream",
          "name": "stdout",
          "text": [
            "[[ 2.47991935  2.26463494  6.53409859 ... -0.15733944 -0.15733944\n",
            "  -0.15733944]\n",
            " [-0.40323892 -0.44157227 -0.1530433  ... -0.15733944 -0.15733944\n",
            "  -0.15733944]\n",
            " [-0.40323892 -0.44157227 -0.1530433  ... -0.15733944 -0.15733944\n",
            "  -0.15733944]\n",
            " ...\n",
            " [-0.40323892  2.26463494 -0.1530433  ... -0.15733944 -0.15733944\n",
            "  -0.15733944]\n",
            " [-0.40323892  2.26463494 -0.1530433  ...  6.3556854   6.3556854\n",
            "   6.3556854 ]\n",
            " [ 2.47991935  2.26463494 -0.1530433  ... -0.15733944  6.3556854\n",
            "  -0.15733944]]\n"
          ]
        }
      ]
    },
    {
      "cell_type": "markdown",
      "metadata": {
        "id": "bb6jCOCQiAmP"
      },
      "source": [
        "## Training the K-NN model on the Training set"
      ]
    },
    {
      "cell_type": "code",
      "metadata": {
        "id": "e0pFVAmciHQs",
        "outputId": "ccd6a62b-101c-4e35-d17d-87f1cfe82d46",
        "colab": {
          "base_uri": "https://localhost:8080/"
        }
      },
      "source": [
        "from sklearn.neighbors import KNeighborsClassifier\n",
        "classifier = KNeighborsClassifier(n_neighbors = 5, metric = 'minkowski', p = 2)\n",
        "classifier.fit(x_train, y_train)"
      ],
      "execution_count": null,
      "outputs": [
        {
          "output_type": "execute_result",
          "data": {
            "text/plain": [
              "KNeighborsClassifier()"
            ]
          },
          "metadata": {},
          "execution_count": 29
        }
      ]
    },
    {
      "cell_type": "markdown",
      "metadata": {
        "id": "vKYVQH-l5NpE"
      },
      "source": [
        "## Predicting the Test set results"
      ]
    },
    {
      "cell_type": "code",
      "metadata": {
        "id": "p6VMTb2O4hwM",
        "outputId": "2df283cb-ff2b-46f8-b12c-d35cae422bc6",
        "colab": {
          "base_uri": "https://localhost:8080/"
        }
      },
      "source": [
        "y_pred = classifier.predict(x_test)\n",
        "print(np.concatenate((y_pred.reshape(len(y_pred),1), y_test.reshape(len(y_test),1)),1))"
      ],
      "execution_count": null,
      "outputs": [
        {
          "output_type": "stream",
          "name": "stdout",
          "text": [
            "[['Fungal infection' 'Fungal infection']\n",
            " ['Allergy' 'Allergy']\n",
            " ['GERD' 'GERD']\n",
            " ['Chronic cholestasis' 'Chronic cholestasis']\n",
            " ['Peptic ulcer diseae' 'Peptic ulcer disease']\n",
            " ['AIDS' 'AIDS']\n",
            " ['Gastroenteritis' 'Gastroenteritis']\n",
            " ['Bronchial Asthma' 'Bronchial Asthma']\n",
            " ['Cervical spondylosis' 'Cervical spondylosis']\n",
            " ['Jaundice' 'Jaundice']\n",
            " ['Malaria' 'Malaria']\n",
            " ['Chicken pox' 'Chicken pox']\n",
            " ['Dengue' 'Dengue']\n",
            " ['Typhoid' 'Typhoid']\n",
            " ['hepatitis A' 'hepatitis A']\n",
            " ['Hepatitis B' 'Hepatitis B']\n",
            " ['Hepatitis C' 'Hepatitis C']\n",
            " ['Hepatitis D' 'Hepatitis D']\n",
            " ['Hepatitis E' 'Hepatitis E']\n",
            " ['Alcoholic hepatitis' 'Alcoholic hepatitis']\n",
            " ['Tuberculosis' 'Tuberculosis']\n",
            " ['Common Cold' 'Common Cold']\n",
            " ['Pneumonia' 'Pneumonia']\n",
            " ['Dimorphic hemmorhoids(piles)' 'Dimorphic hemmorhoids']\n",
            " ['Varicose veins' 'Varicose veins']\n",
            " ['Hypothyroidism' 'Hypothyroidism']\n",
            " ['Hyperthyroidism' 'Hyperthyroidism']\n",
            " ['Hypoglycemia' 'Hypoglycemia']\n",
            " ['Osteoarthristis' 'Osteoarthristis']\n",
            " ['Arthritis' 'Arthritis']\n",
            " ['(vertigo) Paroymsal  Positional Vertigo'\n",
            "  'Paroxysmal  Positional Vertigo']\n",
            " ['Acne' 'Acne']\n",
            " ['Urinary tract infection' 'Urinary tract infection']\n",
            " ['Psoriasis' 'Psoriasis']\n",
            " ['Impetigo' 'Impetigo']\n",
            " ['Impetigo' 'Fungal infection']]\n"
          ]
        }
      ]
    },
    {
      "cell_type": "markdown",
      "metadata": {
        "id": "h4Hwj34ziWQW"
      },
      "source": [
        "## Making the Confusion Matrix"
      ]
    },
    {
      "cell_type": "code",
      "metadata": {
        "id": "D6bpZwUiiXic",
        "outputId": "471b1c27-9966-4f95-9ef2-e6ee40d97813",
        "colab": {
          "base_uri": "https://localhost:8080/"
        }
      },
      "source": [
        "from sklearn.metrics import confusion_matrix, accuracy_score\n",
        "cm = confusion_matrix(y_test, y_pred)\n",
        "print(cm)\n",
        "accuracy_score(y_test, y_pred)"
      ],
      "execution_count": null,
      "outputs": [
        {
          "output_type": "stream",
          "name": "stdout",
          "text": [
            "[[0 0 0 ... 0 0 0]\n",
            " [0 1 0 ... 0 0 0]\n",
            " [0 0 1 ... 0 0 0]\n",
            " ...\n",
            " [0 0 0 ... 1 0 0]\n",
            " [0 0 0 ... 0 1 0]\n",
            " [0 0 0 ... 0 0 1]]\n"
          ]
        },
        {
          "output_type": "execute_result",
          "data": {
            "text/plain": [
              "0.8888888888888888"
            ]
          },
          "metadata": {},
          "execution_count": 31
        }
      ]
    },
    {
      "cell_type": "markdown",
      "metadata": {
        "id": "yyxW5b395mR2"
      },
      "source": [
        "## Predicting the Disease"
      ]
    },
    {
      "cell_type": "code",
      "source": [
        "q=list(map(int,input().split()))\n",
        "print(q)"
      ],
      "metadata": {
        "colab": {
          "base_uri": "https://localhost:8080/"
        },
        "id": "pDrHoLr0LKzn",
        "outputId": "198e1fd2-e343-4940-aa35-873df7d7a129"
      },
      "execution_count": null,
      "outputs": [
        {
          "output_type": "stream",
          "name": "stdout",
          "text": [
            "0\t0\t0\t0\t0\t0\t1\t0\t0\t0\t0\t1\t0\t0\t1\t0\t0\t0\t0\t0\t0\t0\t0\t0\t0\t1\t0\t0\t0\t0\t0\t0\t1\t1\t1\t1\t0\t0\t0\t1\t0\t0\t0\t1\t1\t0\t0\t0\t0\t0\t0\t0\t0\t0\t0\t0\t0\t0\t0\t0\t0\t0\t0\t0\t0\t0\t0\t0\t0\t0\t0\t0\t0\t0\t0\t0\t0\t0\t0\t0\t0\t0\t0\t0\t0\t0\t0\t0\t0\t0\t0\t0\t0\t0\t0\t0\t0\t0\t0\t0\t0\t0\t0\t0\t0\t0\t0\t0\t0\t0\t0\t0\t0\t1\t1\t0\t0\t0\t0\t0\t0\t0\t0\t0\t0\t0\t0\t0\t0\t0\t0\t0\n",
            "[0, 0, 0, 0, 0, 0, 1, 0, 0, 0, 0, 1, 0, 0, 1, 0, 0, 0, 0, 0, 0, 0, 0, 0, 0, 1, 0, 0, 0, 0, 0, 0, 1, 1, 1, 1, 0, 0, 0, 1, 0, 0, 0, 1, 1, 0, 0, 0, 0, 0, 0, 0, 0, 0, 0, 0, 0, 0, 0, 0, 0, 0, 0, 0, 0, 0, 0, 0, 0, 0, 0, 0, 0, 0, 0, 0, 0, 0, 0, 0, 0, 0, 0, 0, 0, 0, 0, 0, 0, 0, 0, 0, 0, 0, 0, 0, 0, 0, 0, 0, 0, 0, 0, 0, 0, 0, 0, 0, 0, 0, 0, 0, 0, 1, 1, 0, 0, 0, 0, 0, 0, 0, 0, 0, 0, 0, 0, 0, 0, 0, 0, 0]\n"
          ]
        }
      ]
    },
    {
      "cell_type": "code",
      "metadata": {
        "id": "f8YOXsQy58rP",
        "outputId": "270d280f-a137-43ca-8b22-44339dbc80cf",
        "colab": {
          "base_uri": "https://localhost:8080/"
        }
      },
      "source": [
        "a=classifier.predict(sc.transform([q]))\n",
        "print(a)"
      ],
      "execution_count": null,
      "outputs": [
        {
          "output_type": "stream",
          "name": "stdout",
          "text": [
            "['Hepatitis E']\n"
          ]
        }
      ]
    },
    {
      "cell_type": "markdown",
      "source": [
        "# Suggesting Description to the predicted disease\n",
        "```\n",
        "\n"
      ],
      "metadata": {
        "id": "peNLOJdntq93"
      }
    },
    {
      "cell_type": "code",
      "source": [
        "dataset2=pd.read_csv('description.csv')\n",
        "disease=dataset2.iloc[:, :1].values\n",
        "description=dataset2.iloc[:,1].values"
      ],
      "metadata": {
        "id": "z2YXEYnYSFAh"
      },
      "execution_count": null,
      "outputs": []
    },
    {
      "cell_type": "code",
      "source": [
        "if(a[0] in disease):\n",
        "  b=np.where(disease==a[0])\n",
        "  print(description[b[0]])\n",
        "else:\n",
        "  print('Disease not found')"
      ],
      "metadata": {
        "colab": {
          "base_uri": "https://localhost:8080/"
        },
        "id": "L472zpsnUuBB",
        "outputId": "f0eef1ad-8978-4965-afe1-e61ed63694aa"
      },
      "execution_count": null,
      "outputs": [
        {
          "output_type": "stream",
          "name": "stdout",
          "text": [
            "['A rare form of liver inflammation caused by infection with the hepatitis E virus (HEV). It is transmitted via food or drink handled by an infected person or through infected water supplies in areas where fecal matter may get into the water. Hepatitis E does not cause chronic liver disease.']\n"
          ]
        }
      ]
    },
    {
      "cell_type": "markdown",
      "source": [
        "# Suggesting Precautions to be followed for the predicted Disease"
      ],
      "metadata": {
        "id": "CTLPZYv8uJAR"
      }
    },
    {
      "cell_type": "code",
      "source": [
        "dataset3=pd.read_csv('precautions.csv')\n",
        "diseases=dataset3.iloc[:, :1].values\n",
        "precaution=dataset3.iloc[:,1:].values"
      ],
      "metadata": {
        "id": "qtnWart5uS5B"
      },
      "execution_count": null,
      "outputs": []
    },
    {
      "cell_type": "code",
      "source": [
        "if(a[0] in diseases):\n",
        "  c=np.where(diseases==a[0])\n",
        "  print(precaution[c[0], :])"
      ],
      "metadata": {
        "colab": {
          "base_uri": "https://localhost:8080/"
        },
        "id": "dqZs9osZu9va",
        "outputId": "1f15c3d6-74e3-46cf-9460-90472d84908b"
      },
      "execution_count": null,
      "outputs": [
        {
          "output_type": "stream",
          "name": "stdout",
          "text": [
            "[['stop alcohol consumption' 'rest' 'consult doctor' 'medication']]\n"
          ]
        }
      ]
    }
  ]
}